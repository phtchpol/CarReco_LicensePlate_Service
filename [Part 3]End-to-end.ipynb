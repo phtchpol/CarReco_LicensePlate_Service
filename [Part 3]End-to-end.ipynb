{
  "cells": [
    {
      "cell_type": "code",
      "execution_count": null,
      "metadata": {
        "colab": {
          "base_uri": "https://localhost:8080/",
          "height": 955
        },
        "id": "TDg_AZZy_JJR",
        "outputId": "4f66c253-727f-49a6-f743-9cf511ccb084"
      },
      "outputs": [
        {
          "name": "stdout",
          "output_type": "stream",
          "text": [
            "Mounted at /content/drive\n",
            "Reading package lists... Done\n",
            "Building dependency tree       \n",
            "Reading state information... Done\n",
            "The following additional packages will be installed:\n",
            "  tesseract-ocr-eng tesseract-ocr-osd\n",
            "The following NEW packages will be installed:\n",
            "  tesseract-ocr tesseract-ocr-eng tesseract-ocr-osd\n",
            "0 upgraded, 3 newly installed, 0 to remove and 19 not upgraded.\n",
            "Need to get 4,850 kB of archives.\n",
            "After this operation, 16.3 MB of additional disk space will be used.\n",
            "Get:1 http://archive.ubuntu.com/ubuntu focal/universe amd64 tesseract-ocr-eng all 1:4.00~git30-7274cfa-1 [1,598 kB]\n",
            "Get:2 http://archive.ubuntu.com/ubuntu focal/universe amd64 tesseract-ocr-osd all 1:4.00~git30-7274cfa-1 [2,990 kB]\n",
            "Get:3 http://archive.ubuntu.com/ubuntu focal/universe amd64 tesseract-ocr amd64 4.1.1-2build2 [262 kB]\n",
            "Fetched 4,850 kB in 1s (5,665 kB/s)\n",
            "debconf: unable to initialize frontend: Dialog\n",
            "debconf: (No usable dialog-like program is installed, so the dialog based frontend cannot be used. at /usr/share/perl5/Debconf/FrontEnd/Dialog.pm line 76, <> line 3.)\n",
            "debconf: falling back to frontend: Readline\n",
            "debconf: unable to initialize frontend: Readline\n",
            "debconf: (This frontend requires a controlling tty.)\n",
            "debconf: falling back to frontend: Teletype\n",
            "dpkg-preconfigure: unable to re-open stdin: \n",
            "Selecting previously unselected package tesseract-ocr-eng.\n",
            "(Reading database ... 128208 files and directories currently installed.)\n",
            "Preparing to unpack .../tesseract-ocr-eng_1%3a4.00~git30-7274cfa-1_all.deb ...\n",
            "Unpacking tesseract-ocr-eng (1:4.00~git30-7274cfa-1) ...\n",
            "Selecting previously unselected package tesseract-ocr-osd.\n",
            "Preparing to unpack .../tesseract-ocr-osd_1%3a4.00~git30-7274cfa-1_all.deb ...\n",
            "Unpacking tesseract-ocr-osd (1:4.00~git30-7274cfa-1) ...\n",
            "Selecting previously unselected package tesseract-ocr.\n",
            "Preparing to unpack .../tesseract-ocr_4.1.1-2build2_amd64.deb ...\n",
            "Unpacking tesseract-ocr (4.1.1-2build2) ...\n",
            "Setting up tesseract-ocr-eng (1:4.00~git30-7274cfa-1) ...\n",
            "Setting up tesseract-ocr-osd (1:4.00~git30-7274cfa-1) ...\n",
            "Setting up tesseract-ocr (4.1.1-2build2) ...\n",
            "Processing triggers for man-db (2.9.1-1) ...\n",
            "Looking in indexes: https://pypi.org/simple, https://us-python.pkg.dev/colab-wheels/public/simple/\n",
            "Collecting pytesseract\n",
            "  Downloading pytesseract-0.3.10-py3-none-any.whl (14 kB)\n",
            "Requirement already satisfied: packaging>=21.3 in /usr/local/lib/python3.8/dist-packages (from pytesseract) (23.0)\n",
            "Collecting Pillow>=8.0.0\n",
            "  Downloading Pillow-9.4.0-cp38-cp38-manylinux_2_28_x86_64.whl (3.4 MB)\n",
            "\u001b[2K     \u001b[90m━━━━━━━━━━━━━━━━━━━━━━━━━━━━━━━━━━━━━━━━\u001b[0m \u001b[32m3.4/3.4 MB\u001b[0m \u001b[31m36.8 MB/s\u001b[0m eta \u001b[36m0:00:00\u001b[0m\n",
            "\u001b[?25hInstalling collected packages: Pillow, pytesseract\n",
            "  Attempting uninstall: Pillow\n",
            "    Found existing installation: Pillow 7.1.2\n",
            "    Uninstalling Pillow-7.1.2:\n",
            "      Successfully uninstalled Pillow-7.1.2\n",
            "Successfully installed Pillow-9.4.0 pytesseract-0.3.10\n"
          ]
        },
        {
          "data": {
            "application/vnd.colab-display-data+json": {
              "pip_warning": {
                "packages": [
                  "PIL"
                ]
              }
            }
          },
          "metadata": {},
          "output_type": "display_data"
        }
      ],
      "source": [
        "from google.colab import drive\n",
        "drive.mount('/content/drive')\n",
        "!sudo apt install tesseract-ocr\n",
        "!pip install pytesseract"
      ]
    },
    {
      "cell_type": "code",
      "execution_count": null,
      "metadata": {
        "colab": {
          "base_uri": "https://localhost:8080/"
        },
        "id": "K6qI8hvi_SfR",
        "outputId": "dd3e6cfb-3636-4e5d-ceba-8bb6260d1d63"
      },
      "outputs": [
        {
          "name": "stdout",
          "output_type": "stream",
          "text": [
            "/content/drive/MyDrive/Plate_detect_and_recognize\n"
          ]
        }
      ],
      "source": [
        "%cd /content/drive/MyDrive/Plate_detect_and_recognize"
      ]
    },
    {
      "cell_type": "code",
      "execution_count": null,
      "metadata": {
        "id": "nbLSEhkH-80u"
      },
      "outputs": [],
      "source": [
        "# remove warning message\n",
        "import os\n",
        "os.environ['TF_CPP_MIN_LOG_LEVEL'] = '3'\n",
        "\n",
        "# required library\n",
        "import cv2\n",
        "import numpy as np\n",
        "import matplotlib.pyplot as plt\n",
        "import matplotlib.gridspec as gridspec\n",
        "from local_utils import detect_lp\n",
        "from os.path import splitext,basename\n",
        "from keras.models import model_from_json\n",
        "from tensorflow.keras.utils import load_img, img_to_array\n",
        "from keras.applications.mobilenet_v2 import preprocess_input\n",
        "from sklearn.preprocessing import LabelEncoder\n",
        "import glob\n",
        "import pytesseract\n",
        "\n",
        "def preprocess_image(image_path,resize=False):\n",
        "    img = cv2.imread(image_path)\n",
        "    img = cv2.cvtColor(img, cv2.COLOR_BGR2RGB)\n",
        "    img = img / 255\n",
        "    if resize:\n",
        "        img = cv2.resize(img, (224,224))\n",
        "    return img\n",
        "\n",
        "def get_plate(image_path, Dmax=608, Dmin = 256):\n",
        "    vehicle = preprocess_image(image_path)\n",
        "    ratio = float(max(vehicle.shape[:2])) / min(vehicle.shape[:2])\n",
        "    side = int(ratio * Dmin)\n",
        "    bound_dim = min(side, Dmax)\n",
        "    _ , LpImg, _, cor = detect_lp(wpod_net, vehicle, bound_dim, lp_threshold=0.5)\n",
        "    return vehicle, LpImg, cor\n",
        "\n",
        "def load_model(path):\n",
        "    try:\n",
        "        path = splitext(path)[0]\n",
        "        with open('%s.json' % path, 'r') as json_file:\n",
        "            model_json = json_file.read()\n",
        "        model = model_from_json(model_json, custom_objects={})\n",
        "        model.load_weights('%s.h5' % path)\n",
        "        print(\"Loading model successfully...\")\n",
        "        return model\n",
        "    except Exception as e:\n",
        "        print(e)\n",
        "\n",
        "wpod_net_path = r\"/content/drive/MyDrive/Plate_detect_and_recognize/wpod-net.json\"\n",
        "wpod_net = load_model(wpod_net_path)\n",
        "test_image_path = r\"/content/drive/MyDrive/Upscaled picture/1677170190021-crop.jpg\"\n",
        "vehicle, LpImg,cor = get_plate(test_image_path)\n",
        "if (len(LpImg)): #check if there is at least one license image\n",
        "    # Scales, calculates absolute values, and converts the result to 8-bit.\n",
        "    plate_image = cv2.convertScaleAbs(LpImg[0], alpha=(255.0))\n",
        "    \n",
        "    # convert to grayscale and blur the image\n",
        "    gray = cv2.cvtColor(plate_image, cv2.COLOR_BGR2GRAY)\n",
        "    blur = cv2.GaussianBlur(gray,(5,5),0)\n",
        "    \n",
        "    # Applied inversed thresh_binary \n",
        "    binary = cv2.threshold(blur, 80, 255, cv2.ADAPTIVE_THRESH_GAUSSIAN_C)[1]\n",
        "    \n",
        "    kernel3 = cv2.getStructuringElement(cv2.MORPH_RECT, (2, 2))\n",
        "    thre_mor = cv2.morphologyEx(binary, cv2.MORPH_DILATE, kernel3)\n",
        "\n",
        "#plt.imshow(thre_mor ,cmap=\"gray\")\n",
        "extractedInformation = pytesseract.image_to_string(thre_mor, config='tessdata-dir /content/drive/MyDrive/Plate_detect_and_recognize/tessdata --psm 6 -oem 1 -c tessedit_char_whitelist=กขฆงจฉชฌญฎฐธพภวศษสฒณตถบปผยรลนฬอฮทมฟ0123456789')\n",
        "print(extractedInformation)"
      ]
    }
  ],
  "metadata": {
    "colab": {
      "provenance": []
    },
    "kernelspec": {
      "display_name": "Python 3",
      "language": "python",
      "name": "python3"
    },
    "language_info": {
      "codemirror_mode": {
        "name": "ipython",
        "version": 3
      },
      "file_extension": ".py",
      "mimetype": "text/x-python",
      "name": "python",
      "nbconvert_exporter": "python",
      "pygments_lexer": "ipython3",
      "version": "3.9.13"
    },
    "vscode": {
      "interpreter": {
        "hash": "832e2f37fcc181c6baeb392e3ca98a5ecabac417bb52e6f616627edbcf294086"
      }
    }
  },
  "nbformat": 4,
  "nbformat_minor": 0
}